{
 "cells": [
  {
   "cell_type": "markdown",
   "metadata": {},
   "source": [
    "## Text Mining and NLP\n",
    "\n",
    "## Part 2\n",
    "\n",
    "### Situation:\n",
    "\n",
    "Priya works at an international PR firm in the Europe division. Their largest client has offices in Ibiza, Madrid, and Las Palmas. She needs to keep her boss aware of current events and provide a weekly short list of articles concerning political events in Spain. The problem is, this takes hours every week to review articles on the BBC and Priya is very busy! She wonders if she could automate this process using text mining to save her time."
   ]
  },
  {
   "cell_type": "markdown",
   "metadata": {},
   "source": [
    "### **Goal**: to internalize the steps, challenges, and methodology of text mining\n",
    "- explore text analysis by hand\n",
    "- apply text mining steps in Jupyter with Python libraries NLTK\n",
    "- classify documents correctly"
   ]
  },
  {
   "cell_type": "code",
   "execution_count": 13,
   "metadata": {},
   "outputs": [
    {
     "name": "stderr",
     "output_type": "stream",
     "text": [
      "[nltk_data] Downloading package stopwords to\n",
      "[nltk_data]     /Users/dryanmiller/nltk_data...\n",
      "[nltk_data]   Package stopwords is already up-to-date!\n"
     ]
    },
    {
     "data": {
      "text/plain": [
       "['i',\n",
       " 'me',\n",
       " 'my',\n",
       " 'myself',\n",
       " 'we',\n",
       " 'our',\n",
       " 'ours',\n",
       " 'ourselves',\n",
       " 'you',\n",
       " \"you're\",\n",
       " \"you've\",\n",
       " \"you'll\",\n",
       " \"you'd\",\n",
       " 'your',\n",
       " 'yours',\n",
       " 'yourself',\n",
       " 'yourselves',\n",
       " 'he',\n",
       " 'him',\n",
       " 'his',\n",
       " 'himself',\n",
       " 'she',\n",
       " \"she's\",\n",
       " 'her',\n",
       " 'hers',\n",
       " 'herself',\n",
       " 'it',\n",
       " \"it's\",\n",
       " 'its',\n",
       " 'itself',\n",
       " 'they',\n",
       " 'them',\n",
       " 'their',\n",
       " 'theirs',\n",
       " 'themselves',\n",
       " 'what',\n",
       " 'which',\n",
       " 'who',\n",
       " 'whom',\n",
       " 'this',\n",
       " 'that',\n",
       " \"that'll\",\n",
       " 'these',\n",
       " 'those',\n",
       " 'am',\n",
       " 'is',\n",
       " 'are',\n",
       " 'was',\n",
       " 'were',\n",
       " 'be',\n",
       " 'been',\n",
       " 'being',\n",
       " 'have',\n",
       " 'has',\n",
       " 'had',\n",
       " 'having',\n",
       " 'do',\n",
       " 'does',\n",
       " 'did',\n",
       " 'doing',\n",
       " 'a',\n",
       " 'an',\n",
       " 'the',\n",
       " 'and',\n",
       " 'but',\n",
       " 'if',\n",
       " 'or',\n",
       " 'because',\n",
       " 'as',\n",
       " 'until',\n",
       " 'while',\n",
       " 'of',\n",
       " 'at',\n",
       " 'by',\n",
       " 'for',\n",
       " 'with',\n",
       " 'about',\n",
       " 'against',\n",
       " 'between',\n",
       " 'into',\n",
       " 'through',\n",
       " 'during',\n",
       " 'before',\n",
       " 'after',\n",
       " 'above',\n",
       " 'below',\n",
       " 'to',\n",
       " 'from',\n",
       " 'up',\n",
       " 'down',\n",
       " 'in',\n",
       " 'out',\n",
       " 'on',\n",
       " 'off',\n",
       " 'over',\n",
       " 'under',\n",
       " 'again',\n",
       " 'further',\n",
       " 'then',\n",
       " 'once',\n",
       " 'here',\n",
       " 'there',\n",
       " 'when',\n",
       " 'where',\n",
       " 'why',\n",
       " 'how',\n",
       " 'all',\n",
       " 'any',\n",
       " 'both',\n",
       " 'each',\n",
       " 'few',\n",
       " 'more',\n",
       " 'most',\n",
       " 'other',\n",
       " 'some',\n",
       " 'such',\n",
       " 'no',\n",
       " 'nor',\n",
       " 'not',\n",
       " 'only',\n",
       " 'own',\n",
       " 'same',\n",
       " 'so',\n",
       " 'than',\n",
       " 'too',\n",
       " 'very',\n",
       " 's',\n",
       " 't',\n",
       " 'can',\n",
       " 'will',\n",
       " 'just',\n",
       " 'don',\n",
       " \"don't\",\n",
       " 'should',\n",
       " \"should've\",\n",
       " 'now',\n",
       " 'd',\n",
       " 'll',\n",
       " 'm',\n",
       " 'o',\n",
       " 're',\n",
       " 've',\n",
       " 'y',\n",
       " 'ain',\n",
       " 'aren',\n",
       " \"aren't\",\n",
       " 'couldn',\n",
       " \"couldn't\",\n",
       " 'didn',\n",
       " \"didn't\",\n",
       " 'doesn',\n",
       " \"doesn't\",\n",
       " 'hadn',\n",
       " \"hadn't\",\n",
       " 'hasn',\n",
       " \"hasn't\",\n",
       " 'haven',\n",
       " \"haven't\",\n",
       " 'isn',\n",
       " \"isn't\",\n",
       " 'ma',\n",
       " 'mightn',\n",
       " \"mightn't\",\n",
       " 'mustn',\n",
       " \"mustn't\",\n",
       " 'needn',\n",
       " \"needn't\",\n",
       " 'shan',\n",
       " \"shan't\",\n",
       " 'shouldn',\n",
       " \"shouldn't\",\n",
       " 'wasn',\n",
       " \"wasn't\",\n",
       " 'weren',\n",
       " \"weren't\",\n",
       " 'won',\n",
       " \"won't\",\n",
       " 'wouldn',\n",
       " \"wouldn't\"]"
      ]
     },
     "execution_count": 13,
     "metadata": {},
     "output_type": "execute_result"
    }
   ],
   "source": [
    "import re\n",
    "import nltk\n",
    "from nltk.stem import *\n",
    "from nltk import FreqDist, word_tokenize\n",
    "from nltk.corpus import stopwords\n",
    "nltk.download('stopwords')\n",
    "stopwords.words(\"english\")"
   ]
  },
  {
   "cell_type": "code",
   "execution_count": 3,
   "metadata": {},
   "outputs": [],
   "source": [
    "string_ = \"Sony PSP tipped as a 'must-have' Sony's Playstation Portable is the top gadget for 2005, according to a round-up of ultimate gizmos compiled by Stuff Magazine. \\\n",
    "It beats the iPod into second place in the Top Ten Essentials list which predicts what gadget-lovers are likely to covet this year. Owning all 10 gadgets will set the gadget lover back £7,455. That is £1,000 cheaper than last year's list due to falling manufacturing costs making gadgets more affordable. \\\n",
    "Portable gadgets dominate the list, including Sharp's 902 3G mobile phone, the Pentax Optio SV digital camera and Samsung's Yepp YH-999 video jukebox. What this year's Essentials shows is that gadgets are now cheaper, sexier and more indispensable than ever. We've got to the point where we can't live our lives without certain technology, \\\n",
    "said Adam Vaughan, editor of Stuff Essentials. The proliferation of gadgets in our homes is inexorably altering the role of the high street in our lives thinks Mr Vaughan. \\\n",
    "Take digital cameras, who would now pay to develop an entire film of photos? Or legitimate downloads, who would travel miles to a record shop when they could download the song in minutes for 70p? \\\n",
    "he asks. Next year will see a new set of technologies capturing the imaginations of gadget lovers, Stuff predicts. The Xbox 2, high-definition TV and MP3 mobiles will be among the list of must-haves that will dominate 2006, it says. The spring launch of the PSP in the UK is eagerly awaited by gaming fans.\"\n",
    "\n"
   ]
  },
  {
   "cell_type": "code",
   "execution_count": 4,
   "metadata": {},
   "outputs": [
    {
     "name": "stdout",
     "output_type": "stream",
     "text": [
      "['Sony', 'PSP', 'tipped', 'as', 'a', 'must', 'have', \"Sony's\", 'Playstation', 'Portable', 'is', 'the', 'top', 'gadget', 'for', 'according', 'to', 'a', 'round', 'up', 'of', 'ultimate', 'gizmos', 'compiled', 'by', 'Stuff', 'Magazine', 'It', 'beats', 'the', 'iPod', 'into', 'second', 'place', 'in', 'the', 'Top', 'Ten', 'Essentials', 'list', 'which', 'predicts', 'what', 'gadget', 'lovers', 'are', 'likely', 'to', 'covet', 'this', 'year', 'Owning', 'all', 'gadgets', 'will', 'set', 'the', 'gadget', 'lover', 'back', 'That', 'is', 'cheaper', 'than', 'last', \"year's\", 'list', 'due', 'to', 'falling', 'manufacturing', 'costs', 'making', 'gadgets', 'more', 'affordable', 'Portable', 'gadgets', 'dominate', 'the', 'list', 'including', \"Sharp's\", 'G', 'mobile', 'phone', 'the', 'Pentax', 'Optio', 'SV', 'digital', 'camera', 'and', \"Samsung's\", 'Yepp', 'YH', 'video', 'jukebox', 'What', 'this']\n"
     ]
    }
   ],
   "source": [
    "pattern = \"([a-zA-Z]+(?:'[a-z]+)?)\"\n",
    "string_raw = nltk.regexp_tokenize(string_, pattern)\n",
    "print(string_raw[:100])"
   ]
  },
  {
   "cell_type": "code",
   "execution_count": 5,
   "metadata": {
    "scrolled": true
   },
   "outputs": [
    {
     "name": "stdout",
     "output_type": "stream",
     "text": [
      "['sony', 'psp', 'tipped', 'as', 'a', 'must', 'have', \"sony's\", 'playstation', 'portable', 'is', 'the', 'top', 'gadget', 'for', 'according', 'to', 'a', 'round', 'up', 'of', 'ultimate', 'gizmos', 'compiled', 'by', 'stuff', 'magazine', 'it', 'beats', 'the', 'ipod', 'into', 'second', 'place', 'in', 'the', 'top', 'ten', 'essentials', 'list', 'which', 'predicts', 'what', 'gadget', 'lovers', 'are', 'likely', 'to', 'covet', 'this', 'year', 'owning', 'all', 'gadgets', 'will', 'set', 'the', 'gadget', 'lover', 'back', 'that', 'is', 'cheaper', 'than', 'last', \"year's\", 'list', 'due', 'to', 'falling', 'manufacturing', 'costs', 'making', 'gadgets', 'more', 'affordable', 'portable', 'gadgets', 'dominate', 'the', 'list', 'including', \"sharp's\", 'g', 'mobile', 'phone', 'the', 'pentax', 'optio', 'sv', 'digital', 'camera', 'and', \"samsung's\", 'yepp', 'yh', 'video', 'jukebox', 'what', 'this']\n"
     ]
    }
   ],
   "source": [
    "string_tokens = [i.lower() for i in string_raw]\n",
    "print(string_tokens[:100])\n",
    "\n"
   ]
  },
  {
   "cell_type": "code",
   "execution_count": 8,
   "metadata": {},
   "outputs": [
    {
     "name": "stdout",
     "output_type": "stream",
     "text": [
      "['sony', 'psp', 'tipped', 'must', \"sony's\", 'playstation', 'portable', 'top', 'gadget', 'according', 'round', 'ultimate', 'gizmos', 'compiled', 'stuff', 'magazine', 'beats', 'ipod', 'second', 'place', 'top', 'ten', 'essentials', 'list', 'predicts', 'gadget', 'lovers', 'likely', 'covet', 'year', 'owning', 'gadgets', 'set', 'gadget', 'lover', 'back', 'cheaper', 'last', \"year's\", 'list', 'due', 'falling', 'manufacturing', 'costs', 'making', 'gadgets', 'affordable', 'portable', 'gadgets', 'dominate', 'list', 'including', \"sharp's\", 'g', 'mobile', 'phone', 'pentax', 'optio', 'sv', 'digital', 'camera', \"samsung's\", 'yepp', 'yh', 'video', 'jukebox', \"year's\", 'essentials', 'shows', 'gadgets', 'cheaper', 'sexier', 'indispensable', 'ever', \"we've\", 'got', 'point', \"can't\", 'live', 'lives', 'without', 'certain', 'technology', 'said', 'adam', 'vaughan', 'editor', 'stuff', 'essentials', 'proliferation', 'gadgets', 'homes', 'inexorably', 'altering', 'role', 'high', 'street', 'lives', 'thinks', 'mr']\n"
     ]
    }
   ],
   "source": [
    "stop_words = set(stopwords.words('english'))\n",
    "string_tokens_stopped = [w for w in string_tokens if not w in stop_words]\n",
    "print(string_tokens_stopped[:100])"
   ]
  },
  {
   "cell_type": "code",
   "execution_count": 11,
   "metadata": {},
   "outputs": [
    {
     "name": "stdout",
     "output_type": "stream",
     "text": [
      "['soni', 'psp', 'tip', 'must', 'soni', 'playstat', 'portabl', 'top', 'gadget', 'accord', 'round', 'ultim', 'gizmo', 'compil', 'stuff', 'magazin', 'beat', 'ipod', 'second', 'place', 'top', 'ten', 'essenti', 'list', 'predict', 'gadget', 'lover', 'like', 'covet', 'year', 'own', 'gadget', 'set', 'gadget', 'lover', 'back', 'cheaper', 'last', 'year', 'list', 'due', 'fall', 'manufactur', 'cost', 'make', 'gadget', 'afford', 'portabl', 'gadget', 'domin', 'list', 'includ', 'sharp', 'g', 'mobil', 'phone', 'pentax', 'optio', 'sv', 'digit', 'camera', 'samsung', 'yepp', 'yh', 'video', 'jukebox', 'year', 'essenti', 'show', 'gadget', 'cheaper', 'sexier', 'indispens', 'ever', \"we'v\", 'got', 'point', \"can't\", 'live', 'live', 'without', 'certain', 'technolog', 'said', 'adam', 'vaughan', 'editor', 'stuff', 'essenti', 'prolifer', 'gadget', 'home', 'inexor', 'alter', 'role', 'high', 'street', 'live', 'think', 'mr']\n"
     ]
    }
   ],
   "source": [
    "stemmer = SnowballStemmer(\"english\")\n",
    "string_tokens_stemmed = [stemmer.stem(token) for token in string_tokens_stopped]\n",
    "print(string_tokens_stemmed[:100])"
   ]
  },
  {
   "cell_type": "code",
   "execution_count": 14,
   "metadata": {},
   "outputs": [],
   "source": [
    "string_freqdist = FreqDist(string_tokens_stemmed)"
   ]
  },
  {
   "cell_type": "code",
   "execution_count": 15,
   "metadata": {
    "scrolled": true
   },
   "outputs": [
    {
     "data": {
      "text/plain": [
       "[('gadget', 9),\n",
       " ('list', 4),\n",
       " ('year', 4),\n",
       " ('stuff', 3),\n",
       " ('essenti', 3),\n",
       " ('lover', 3),\n",
       " ('live', 3),\n",
       " ('soni', 2),\n",
       " ('psp', 2),\n",
       " ('must', 2),\n",
       " ('portabl', 2),\n",
       " ('top', 2),\n",
       " ('predict', 2),\n",
       " ('set', 2),\n",
       " ('cheaper', 2),\n",
       " ('domin', 2),\n",
       " ('mobil', 2),\n",
       " ('digit', 2),\n",
       " ('camera', 2),\n",
       " ('technolog', 2),\n",
       " ('vaughan', 2),\n",
       " ('high', 2),\n",
       " ('would', 2),\n",
       " ('download', 2),\n",
       " ('tip', 1),\n",
       " ('playstat', 1),\n",
       " ('accord', 1),\n",
       " ('round', 1),\n",
       " ('ultim', 1),\n",
       " ('gizmo', 1),\n",
       " ('compil', 1),\n",
       " ('magazin', 1),\n",
       " ('beat', 1),\n",
       " ('ipod', 1),\n",
       " ('second', 1),\n",
       " ('place', 1),\n",
       " ('ten', 1),\n",
       " ('like', 1),\n",
       " ('covet', 1),\n",
       " ('own', 1),\n",
       " ('back', 1),\n",
       " ('last', 1),\n",
       " ('due', 1),\n",
       " ('fall', 1),\n",
       " ('manufactur', 1),\n",
       " ('cost', 1),\n",
       " ('make', 1),\n",
       " ('afford', 1),\n",
       " ('includ', 1),\n",
       " ('sharp', 1)]"
      ]
     },
     "execution_count": 15,
     "metadata": {},
     "output_type": "execute_result"
    }
   ],
   "source": [
    "string_freqdist.most_common(50)"
   ]
  },
  {
   "cell_type": "code",
   "execution_count": 18,
   "metadata": {},
   "outputs": [
    {
     "data": {
      "image/png": "[encoded data removed]",
      "text/plain": [
       "<Figure size 1440x720 with 1 Axes>"
      ]
     },
     "metadata": {
      "needs_background": "light"
     },
     "output_type": "display_data"
    }
   ],
   "source": [
    "import matplotlib.pyplot as plt\n",
    "%matplotlib inline\n",
    "plt.figure(figsize=(20,10))\n",
    "string_freqdist.plot(30,cumulative=False)"
   ]
  },
  {
   "cell_type": "markdown",
   "metadata": {},
   "source": [
    "## Refresher on cleaning text\n",
    "![gif](https://www.nyfa.edu/student-resources/wp-content/uploads/2014/10/furious-crazed-typing.gif)\n"
   ]
  },
  {
   "cell_type": "code",
   "execution_count": 21,
   "metadata": {},
   "outputs": [],
   "source": [
    "from __future__ import print_function\n",
    "import nltk\n",
    "import sklearn\n",
    "\n",
    "\n",
    "#from nltk.collocations import *\n",
    "from nltk import FreqDist, word_tokenize\n",
    "import string, re\n",
    "import urllib\n",
    "from nltk.stem.snowball import SnowballStemmer\n",
    "\n",
    "url_a = \"https://raw.githubusercontent.com/aapeebles/text_examples/master/Text%20examples%20folder/A.txt\"\n",
    "url_b = \"https://raw.githubusercontent.com/aapeebles/text_examples/master/Text%20examples%20folder/B.txt\"\n",
    "article_a = urllib.request.urlopen(url_a).read()\n",
    "article_a_st = article_a.decode(\"utf-8\")\n"
   ]
  },
  {
   "cell_type": "code",
   "execution_count": 22,
   "metadata": {},
   "outputs": [],
   "source": [
    "# tokens\n",
    "pattern = \"([a-zA-Z]+(?:'[a-z]+)?)\"\n",
    "arta_tokens_raw = nltk.regexp_tokenize(article_a_st, pattern)\n",
    "\n",
    "# lower case\n",
    "arta_tokens = [i.lower() for i in arta_tokens_raw]\n",
    "\n",
    "# stop words\n",
    "from nltk.corpus import stopwords\n",
    "stopwords.words(\"english\")\n",
    "\n",
    "stop_words = set(stopwords.words('english'))\n",
    "arta_tokens_stopped = [w for w in arta_tokens if not w in stop_words]\n",
    "\n",
    "# stem words\n",
    "stemmer = SnowballStemmer(\"english\")\n",
    "arta_stemmed = [stemmer.stem(word) for word in arta_tokens_stopped]"
   ]
  },
  {
   "cell_type": "code",
   "execution_count": 23,
   "metadata": {},
   "outputs": [],
   "source": [
    "# repeat w second article\n",
    "article_b = urllib.request.urlopen(url_b).read()\n",
    "article_b_st = article_b.decode(\"utf-8\")\n",
    "artb_tokens_raw = nltk.regexp_tokenize(article_b_st, pattern)\n",
    "artb_tokens = [i.lower() for i in artb_tokens_raw]\n",
    "artb_tokens_stopped = [w for w in artb_tokens if not w in stop_words]\n",
    "artb_stemmed = [stemmer.stem(word) for word in artb_tokens_stopped]"
   ]
  },
  {
   "cell_type": "markdown",
   "metadata": {},
   "source": [
    "### Document statistics"
   ]
  },
  {
   "cell_type": "markdown",
   "metadata": {},
   "source": [
    "what's wrong with the table from yesterday? what does it not consider?\n"
   ]
  },
  {
   "cell_type": "markdown",
   "metadata": {},
   "source": [
    "### Document Frequency (DF)\n",
    "\n",
    "$\\begin{align}\n",
    " tf_{i,j} = \\dfrac{n_{i,j}}{\\displaystyle \\sum_k n_{i,j} }\n",
    "\\end{align} $"
   ]
  },
  {
   "cell_type": "markdown",
   "metadata": {},
   "source": [
    "### Inverse Document Frequency (IDF)\n",
    "\n",
    "$\\begin{align}\n",
    "idf(w) = \\log \\dfrac{N}{df_t}\n",
    "\\end{align} $"
   ]
  },
  {
   "cell_type": "markdown",
   "metadata": {},
   "source": [
    "### DF-IDF score\n",
    "\n",
    "$ \\begin{align}\n",
    "w_{i,j} = tf_{i,j} \\times \\log \\dfrac{N}{df_i} \\\\\n",
    "tf_{i,j} = \\text{number of occurences of } i \\text{ in} j \\\\\n",
    "df_i = \\text{number of documents containing} i \\\\\n",
    "N = \\text{total number of documents}\n",
    "\\end{align} $\n"
   ]
  },
  {
   "cell_type": "markdown",
   "metadata": {},
   "source": [
    "### The from scratch method\n",
    "![homemade](https://media2.giphy.com/media/LBZcXdG0eVBdK/giphy.gif?cid=3640f6095c2d7bb2526a424a4d97117c)\n",
    "\n",
    "\n",
    "Please go through the code and comment what each section does"
   ]
  },
  {
   "cell_type": "code",
   "execution_count": 24,
   "metadata": {},
   "outputs": [],
   "source": [
    "wordSet = set(arta_stemmed).union(set(artb_stemmed)) #Identifying the unique words in arta and artb and then finding the union between the two sets\n",
    "wordDictA = dict.fromkeys(wordSet, 0) #creates a dictionary where the keys are the values in wordSet and the values are set to 0.\n",
    "wordDictB = dict.fromkeys(wordSet, 0) #creates a dictionary where the keys are the values in wordSet and the values are set to 0.\n",
    "\n",
    "for word in arta_stemmed:  #Calculates the word counts for arta\n",
    "    wordDictA[word]+=1\n",
    "    \n",
    "for word in artb_stemmed: #Calculates the word counts for arta\n",
    "    wordDictB[word]+=1    \n",
    "\n",
    "def computeTF(wordDict, bow): #creates function to calculate TF\n",
    "    tfDict = {}\n",
    "    bowCount = len(bow)\n",
    "    for word, count in wordDict.items():\n",
    "        tfDict[word] = count/float(bowCount)\n",
    "    return tfDict\n",
    "\n",
    "tfbowA = computeTF(wordDictA,arta_stemmed) #calculates TF for arta\n",
    "tfbowB = computeTF(wordDictB,artb_stemmed) #calculates TF for artb"
   ]
  },
  {
   "cell_type": "code",
   "execution_count": 25,
   "metadata": {},
   "outputs": [
    {
     "data": {
      "text/plain": [
       "{'fund': 0.0,\n",
       " 'comput': 0.021739130434782608,\n",
       " 'juri': 0.010869565217391304,\n",
       " 'decis': 0.005434782608695652,\n",
       " 'use': 0.005434782608695652,\n",
       " 'larg': 0.005434782608695652,\n",
       " 'oppon': 0.005434782608695652,\n",
       " 'final': 0.0,\n",
       " 'base': 0.010869565217391304,\n",
       " 'vocal': 0.005434782608695652,\n",
       " 'mep': 0.010869565217391304,\n",
       " 'agre': 0.0,\n",
       " 'lobbi': 0.005434782608695652,\n",
       " 'firm': 0.010869565217391304,\n",
       " 'issu': 0.005434782608695652,\n",
       " 'announc': 0.0,\n",
       " 'eu': 0.021739130434782608,\n",
       " 'vote': 0.005434782608695652,\n",
       " 'legal': 0.016304347826086956,\n",
       " 'problem': 0.0,\n",
       " 'direct': 0.021739130434782608,\n",
       " 'two': 0.010869565217391304,\n",
       " 'intens': 0.005434782608695652,\n",
       " 'believ': 0.0,\n",
       " 'commiss': 0.005434782608695652,\n",
       " 'method': 0.005434782608695652,\n",
       " 'financi': 0.005434782608695652,\n",
       " 'rewrit': 0.005434782608695652,\n",
       " 'intend': 0.005434782608695652,\n",
       " 'submit': 0.005434782608695652,\n",
       " 'read': 0.005434782608695652,\n",
       " 'intern': 0.0,\n",
       " 'adopt': 0.005434782608695652,\n",
       " 'invent': 0.02717391304347826,\n",
       " 'reject': 0.005434782608695652,\n",
       " 'momentum': 0.005434782608695652,\n",
       " 'group': 0.0,\n",
       " 'also': 0.0,\n",
       " 'week': 0.0,\n",
       " 'propos': 0.010869565217391304,\n",
       " 'fuller': 0.005434782608695652,\n",
       " 'current': 0.005434782608695652,\n",
       " 'repay': 0.0,\n",
       " 'rule': 0.005434782608695652,\n",
       " 'could': 0.016304347826086956,\n",
       " 'small': 0.010869565217391304,\n",
       " 'canada': 0.0,\n",
       " 'meet': 0.005434782608695652,\n",
       " 'come': 0.0,\n",
       " 'support': 0.010869565217391304,\n",
       " 'earlier': 0.0,\n",
       " 'pound': 0.0,\n",
       " 'fear': 0.005434782608695652,\n",
       " 'bank': 0.0,\n",
       " 'reach': 0.0,\n",
       " 'largest': 0.005434782608695652,\n",
       " 'world': 0.0,\n",
       " 'effect': 0.005434782608695652,\n",
       " 'first': 0.005434782608695652,\n",
       " 'lead': 0.005434782608695652,\n",
       " 'permit': 0.005434782608695652,\n",
       " 'without': 0.005434782608695652,\n",
       " 'let': 0.005434782608695652,\n",
       " 'even': 0.005434782608695652,\n",
       " 'controversi': 0.005434782608695652,\n",
       " 'committe': 0.010869565217391304,\n",
       " 'pressur': 0.005434782608695652,\n",
       " 'com': 0.005434782608695652,\n",
       " 'servic': 0.005434782608695652,\n",
       " 'us': 0.016304347826086956,\n",
       " 'achiev': 0.005434782608695652,\n",
       " 'bring': 0.005434782608695652,\n",
       " 'exampl': 0.005434782608695652,\n",
       " 'law': 0.02717391304347826,\n",
       " 'patent': 0.02717391304347826,\n",
       " 'word': 0.005434782608695652,\n",
       " 'similar': 0.005434782608695652,\n",
       " 'field': 0.005434782608695652,\n",
       " 'face': 0.0,\n",
       " 'suffer': 0.005434782608695652,\n",
       " 'jack': 0.0,\n",
       " 'mean': 0.005434782608695652,\n",
       " 'member': 0.010869565217391304,\n",
       " 'debt': 0.0,\n",
       " 'creditor': 0.0,\n",
       " 'twice': 0.005434782608695652,\n",
       " 'affect': 0.0,\n",
       " 'compani': 0.005434782608695652,\n",
       " 'monetari': 0.0,\n",
       " 'european': 0.010869565217391304,\n",
       " 'analysi': 0.0,\n",
       " 'brown': 0.0,\n",
       " 'back': 0.010869565217391304,\n",
       " 'fail': 0.005434782608695652,\n",
       " 'happen': 0.005434782608695652,\n",
       " 'might': 0.005434782608695652,\n",
       " 'nation': 0.005434782608695652,\n",
       " 'hit': 0.0,\n",
       " 'draft': 0.016304347826086956,\n",
       " 'parliament': 0.010869565217391304,\n",
       " 'govern': 0.005434782608695652,\n",
       " 'disast': 0.0,\n",
       " 'countri': 0.0,\n",
       " 'busi': 0.005434782608695652,\n",
       " 'fight': 0.005434782608695652,\n",
       " 'implic': 0.005434782608695652,\n",
       " 'freez': 0.0,\n",
       " 'instruct': 0.0,\n",
       " 'financ': 0.0,\n",
       " 'gordon': 0.0,\n",
       " 'begun': 0.0,\n",
       " 'deal': 0.0,\n",
       " 'japan': 0.0,\n",
       " 'g': 0.0,\n",
       " 'bn': 0.0,\n",
       " 'agreement': 0.0,\n",
       " 'briton': 0.0,\n",
       " 'favour': 0.005434782608695652,\n",
       " 'larger': 0.005434782608695652,\n",
       " 'friday': 0.0,\n",
       " 'order': 0.010869565217391304,\n",
       " 'hope': 0.0,\n",
       " 'wealthi': 0.0,\n",
       " 'secretari': 0.0,\n",
       " 'said': 0.010869565217391304,\n",
       " 'abstain': 0.005434782608695652,\n",
       " 'court': 0.005434782608695652,\n",
       " 'setback': 0.005434782608695652,\n",
       " 'mr': 0.0,\n",
       " 'impact': 0.005434782608695652,\n",
       " 'number': 0.0,\n",
       " 'open': 0.005434782608695652,\n",
       " 'year': 0.0,\n",
       " 'hurt': 0.005434782608695652,\n",
       " 'give': 0.005434782608695652,\n",
       " 'tsunami': 0.0,\n",
       " 'implement': 0.010869565217391304,\n",
       " 'immens': 0.005434782608695652,\n",
       " 'miss': 0.0,\n",
       " 'critic': 0.010869565217391304,\n",
       " 'night': 0.0,\n",
       " 'minist': 0.0,\n",
       " 'one': 0.016304347826086956,\n",
       " 'complet': 0.0,\n",
       " 'thursday': 0.0,\n",
       " 'thought': 0.0,\n",
       " 'expect': 0.0,\n",
       " 'program': 0.005434782608695652,\n",
       " 'foreign': 0.0,\n",
       " 'talk': 0.0,\n",
       " 'softwar': 0.016304347826086956,\n",
       " 'shop': 0.005434782608695652,\n",
       " 'action': 0.005434782608695652,\n",
       " 'serv': 0.005434782608695652,\n",
       " 'internet': 0.005434782608695652,\n",
       " 'gain': 0.005434782608695652,\n",
       " 'concern': 0.005434782608695652,\n",
       " 'innov': 0.005434782608695652,\n",
       " 'britain': 0.0,\n",
       " 'ineffici': 0.005434782608695652,\n",
       " 'model': 0.005434782608695652,\n",
       " 'dead': 0.0,\n",
       " 'sourc': 0.005434782608695652,\n",
       " 'union': 0.005434782608695652,\n",
       " 'develop': 0.005434782608695652,\n",
       " 'click': 0.005434782608695652,\n",
       " 'lock': 0.0,\n",
       " 'moratorium': 0.0,\n",
       " 'affair': 0.005434782608695652,\n",
       " 'put': 0.005434782608695652,\n",
       " 'amazon': 0.005434782608695652,\n",
       " 'welcom': 0.005434782608695652,\n",
       " 'reconstruct': 0.0,\n",
       " 'line': 0.005434782608695652,\n",
       " 'idea': 0.0,\n",
       " 'interest': 0.0,\n",
       " 'poland': 0.005434782608695652,\n",
       " 'protect': 0.010869565217391304,\n",
       " 'later': 0.0,\n",
       " 'debat': 0.005434782608695652,\n",
       " 'save': 0.0,\n",
       " 'reboot': 0.005434782608695652,\n",
       " 'hold': 0.005434782608695652,\n",
       " 'chair': 0.0,\n",
       " 'biggest': 0.0,\n",
       " 'suspend': 0.0,\n",
       " 'month': 0.005434782608695652,\n",
       " 'would': 0.016304347826086956,\n",
       " 'chancellor': 0.0,\n",
       " 'sign': 0.0,\n",
       " 'play': 0.005434782608695652,\n",
       " 'start': 0.005434782608695652,\n",
       " 'germani': 0.0,\n",
       " 'say': 0.016304347826086956,\n",
       " 'chanc': 0.005434782608695652,\n",
       " 'straw': 0.0,\n",
       " 'europ': 0.005434782608695652,\n",
       " 'offer': 0.005434782608695652,\n",
       " 'state': 0.010869565217391304,\n",
       " 'hammer': 0.0,\n",
       " 'new': 0.010869565217391304}"
      ]
     },
     "execution_count": 25,
     "metadata": {},
     "output_type": "execute_result"
    }
   ],
   "source": [
    "tfbowA"
   ]
  },
  {
   "cell_type": "code",
   "execution_count": 27,
   "metadata": {},
   "outputs": [],
   "source": [
    "def computeIDF(docList): #creates function for calculating IDF\n",
    "    import math #imports the math package\n",
    "    idfDict = {} #creates an empty dictionary\n",
    "    N = len(docList) #assigns the length of docList to N\n",
    "    \n",
    "    idfDict = dict.fromkeys(docList[0].keys(), 0) #creates a new dictionary with the keys from docList and values of 0\n",
    "    for doc in docList: #starts a for loop \n",
    "        for word, val in doc.items(): #starts a \n",
    "            if val > 0:\n",
    "                idfDict[word] += 1\n",
    "    \n",
    "    for word, val in idfDict.items():\n",
    "        idfDict[word] = math.log10(N / float(val))\n",
    "        \n",
    "    return idfDict"
   ]
  },
  {
   "cell_type": "code",
   "execution_count": 28,
   "metadata": {},
   "outputs": [],
   "source": [
    "idfs = computeIDF([wordDictA, wordDictB]) #computes IDF for wordDictA and wordDictB"
   ]
  },
  {
   "cell_type": "code",
   "execution_count": 29,
   "metadata": {},
   "outputs": [],
   "source": [
    "def computeTFIDF(tfBow, idfs): #creates function for calculating TF-IDF\n",
    "    tfidf = {} #creates empty dictionary\n",
    "    for word, val in tfBow.items(): #creates for loop with the keys and values from the tfBow dictionary\n",
    "        tfidf[word] = val*idfs[word] #for each word in tfBow, the value is multiplied by the idfs for the word. The word and resulting calculation are then added to the dictionary tfidf.\n",
    "    return tfidf #returns the tfidf dictionary"
   ]
  },
  {
   "cell_type": "code",
   "execution_count": 30,
   "metadata": {},
   "outputs": [],
   "source": [
    "tfidfBowA = computeTFIDF(tfbowA, idfs) #calculates TF-IDF for arta\n",
    "tfidfBowB = computeTFIDF(tfbowB, idfs) #calculates TF-IDF for artb"
   ]
  },
  {
   "cell_type": "code",
   "execution_count": 31,
   "metadata": {},
   "outputs": [
    {
     "data": {
      "text/html": [
       "<div>\n",
       "<style scoped>\n",
       "    .dataframe tbody tr th:only-of-type {\n",
       "        vertical-align: middle;\n",
       "    }\n",
       "\n",
       "    .dataframe tbody tr th {\n",
       "        vertical-align: top;\n",
       "    }\n",
       "\n",
       "    .dataframe thead th {\n",
       "        text-align: right;\n",
       "    }\n",
       "</style>\n",
       "<table border=\"1\" class=\"dataframe\">\n",
       "  <thead>\n",
       "    <tr style=\"text-align: right;\">\n",
       "      <th></th>\n",
       "      <th>abstain</th>\n",
       "      <th>achiev</th>\n",
       "      <th>action</th>\n",
       "      <th>adopt</th>\n",
       "      <th>affair</th>\n",
       "      <th>affect</th>\n",
       "      <th>agre</th>\n",
       "      <th>agreement</th>\n",
       "      <th>also</th>\n",
       "      <th>amazon</th>\n",
       "      <th>...</th>\n",
       "      <th>vocal</th>\n",
       "      <th>vote</th>\n",
       "      <th>wealthi</th>\n",
       "      <th>week</th>\n",
       "      <th>welcom</th>\n",
       "      <th>without</th>\n",
       "      <th>word</th>\n",
       "      <th>world</th>\n",
       "      <th>would</th>\n",
       "      <th>year</th>\n",
       "    </tr>\n",
       "  </thead>\n",
       "  <tbody>\n",
       "    <tr>\n",
       "      <th>0</th>\n",
       "      <td>0.001636</td>\n",
       "      <td>0.001636</td>\n",
       "      <td>0.001636</td>\n",
       "      <td>0.001636</td>\n",
       "      <td>0.001636</td>\n",
       "      <td>0.000000</td>\n",
       "      <td>0.000000</td>\n",
       "      <td>0.000000</td>\n",
       "      <td>0.000000</td>\n",
       "      <td>0.001636</td>\n",
       "      <td>...</td>\n",
       "      <td>0.001636</td>\n",
       "      <td>0.001636</td>\n",
       "      <td>0.000000</td>\n",
       "      <td>0.000000</td>\n",
       "      <td>0.001636</td>\n",
       "      <td>0.001636</td>\n",
       "      <td>0.001636</td>\n",
       "      <td>0.000000</td>\n",
       "      <td>0.0</td>\n",
       "      <td>0.000000</td>\n",
       "    </tr>\n",
       "    <tr>\n",
       "      <th>1</th>\n",
       "      <td>0.000000</td>\n",
       "      <td>0.000000</td>\n",
       "      <td>0.000000</td>\n",
       "      <td>0.000000</td>\n",
       "      <td>0.000000</td>\n",
       "      <td>0.002923</td>\n",
       "      <td>0.002923</td>\n",
       "      <td>0.002923</td>\n",
       "      <td>0.005845</td>\n",
       "      <td>0.000000</td>\n",
       "      <td>...</td>\n",
       "      <td>0.000000</td>\n",
       "      <td>0.000000</td>\n",
       "      <td>0.002923</td>\n",
       "      <td>0.002923</td>\n",
       "      <td>0.000000</td>\n",
       "      <td>0.000000</td>\n",
       "      <td>0.000000</td>\n",
       "      <td>0.002923</td>\n",
       "      <td>0.0</td>\n",
       "      <td>0.002923</td>\n",
       "    </tr>\n",
       "  </tbody>\n",
       "</table>\n",
       "<p>2 rows × 201 columns</p>\n",
       "</div>"
      ],
      "text/plain": [
       "    abstain    achiev    action     adopt    affair    affect      agre  \\\n",
       "0  0.001636  0.001636  0.001636  0.001636  0.001636  0.000000  0.000000   \n",
       "1  0.000000  0.000000  0.000000  0.000000  0.000000  0.002923  0.002923   \n",
       "\n",
       "   agreement      also    amazon  ...     vocal      vote   wealthi      week  \\\n",
       "0   0.000000  0.000000  0.001636  ...  0.001636  0.001636  0.000000  0.000000   \n",
       "1   0.002923  0.005845  0.000000  ...  0.000000  0.000000  0.002923  0.002923   \n",
       "\n",
       "     welcom   without      word     world  would      year  \n",
       "0  0.001636  0.001636  0.001636  0.000000    0.0  0.000000  \n",
       "1  0.000000  0.000000  0.000000  0.002923    0.0  0.002923  \n",
       "\n",
       "[2 rows x 201 columns]"
      ]
     },
     "execution_count": 31,
     "metadata": {},
     "output_type": "execute_result"
    }
   ],
   "source": [
    "import pandas as pd # imports pandas\n",
    "pd.DataFrame([tfidfBowA, tfidfBowB]) #converts tfidfBowA and tfidfBowB into a single pandas dataframe"
   ]
  },
  {
   "cell_type": "markdown",
   "metadata": {},
   "source": [
    "## But yes, there is an easier way\n",
    "\n",
    "![big deal](https://media0.giphy.com/media/xUA7aQOxkz00lvCAOQ/giphy.gif?cid=3640f6095c2d7c51772f47644d09cc8b)\n"
   ]
  },
  {
   "cell_type": "code",
   "execution_count": 32,
   "metadata": {},
   "outputs": [
    {
     "name": "stdout",
     "output_type": "stream",
     "text": [
      "    abstain    achiev    action     adopt    affair    affect      agre  \\\n",
      "0  0.053285  0.053285  0.053285  0.053285  0.053285  0.000000  0.000000   \n",
      "1  0.000000  0.000000  0.000000  0.000000  0.000000  0.084167  0.084167   \n",
      "\n",
      "   agreement      also    amazon  ...     vocal      vote   wealthi      week  \\\n",
      "0   0.000000  0.000000  0.053285  ...  0.053285  0.053285  0.000000  0.000000   \n",
      "1   0.084167  0.168334  0.000000  ...  0.000000  0.000000  0.084167  0.084167   \n",
      "\n",
      "     welcom   without      word     world     would      year  \n",
      "0  0.053285  0.053285  0.053285  0.000000  0.113738  0.000000  \n",
      "1  0.000000  0.000000  0.000000  0.084167  0.059885  0.084167  \n",
      "\n",
      "[2 rows x 200 columns]\n"
     ]
    }
   ],
   "source": [
    "# create a string again\n",
    "cleaned_a = ' '.join(arta_stemmed)\n",
    "cleaned_b = ' '.join(artb_stemmed)\n",
    "\n",
    "\n",
    "from sklearn.feature_extraction.text import TfidfVectorizer\n",
    "tfidf = TfidfVectorizer()\n",
    "response = tfidf.fit_transform([cleaned_a, cleaned_b])\n",
    "\n",
    "import pandas as pd\n",
    "df = pd.DataFrame(response.toarray(), columns=tfidf.get_feature_names())\n",
    "print(df)"
   ]
  },
  {
   "cell_type": "markdown",
   "metadata": {},
   "source": [
    "## Corpus Statistics \n",
    "\n",
    "How many non-zero elements are there?\n",
    "- Adapt the code below, using the `df` version of the `response` object to replace everywhere below it says `DATA`\n",
    "- Interpret the findings\n"
   ]
  },
  {
   "cell_type": "code",
   "execution_count": 68,
   "metadata": {},
   "outputs": [
    {
     "name": "stdout",
     "output_type": "stream",
     "text": [
      "Average Number of Non-Zero Elements in Vectorized Articles: 103.5\n",
      "Percentage of columns containing 0: 0.48250000000000004\n"
     ]
    }
   ],
   "source": [
    "# Edit code before running it\n",
    "import numpy as np\n",
    "newval = np.array(df)\n",
    "non_zero_cells =  np.count_nonzero(newval)/ float(df.shape[0])\n",
    "print(\"Average Number of Non-Zero Elements in Vectorized Articles: {}\".format(non_zero_cols))\n",
    "\n",
    "percent_sparse = 1 - (non_zero_cells / float(df.shape[1]))\n",
    "print('Percentage of columns containing 0: {}'.format(percent_sparse))"
   ]
  },
  {
   "cell_type": "markdown",
   "metadata": {},
   "source": [
    "### Next Steps:\n",
    "- Create the tf-idf for the **whole** corpus of 12 articles\n",
    "- What are _on average_ the most important words in the whole corpus?\n",
    "- Add a column named \"Target\" to the dataset\n",
    "- Target will be set to 1 or 0 if the article is \"Politics\" or \"Not Politics\"\n",
    "- Do some exploratory analysis of the dataset\n",
    " - what are the average most important words for the \"Politics\" articles?\n",
    " - What are the average most important words for the \"Not Politics\"?"
   ]
  },
  {
   "cell_type": "code",
   "execution_count": 69,
   "metadata": {},
   "outputs": [
    {
     "data": {
      "text/plain": [
       "['https://raw.githubusercontent.com/aapeebles/text_examples/master/Text%20examples%20folder/A.txt',\n",
       " 'https://raw.githubusercontent.com/aapeebles/text_examples/master/Text%20examples%20folder/B.txt',\n",
       " 'https://raw.githubusercontent.com/aapeebles/text_examples/master/Text%20examples%20folder/C.txt',\n",
       " 'https://raw.githubusercontent.com/aapeebles/text_examples/master/Text%20examples%20folder/D.txt',\n",
       " 'https://raw.githubusercontent.com/aapeebles/text_examples/master/Text%20examples%20folder/E.txt',\n",
       " 'https://raw.githubusercontent.com/aapeebles/text_examples/master/Text%20examples%20folder/F.txt',\n",
       " 'https://raw.githubusercontent.com/aapeebles/text_examples/master/Text%20examples%20folder/G.txt',\n",
       " 'https://raw.githubusercontent.com/aapeebles/text_examples/master/Text%20examples%20folder/H.txt',\n",
       " 'https://raw.githubusercontent.com/aapeebles/text_examples/master/Text%20examples%20folder/I.txt',\n",
       " 'https://raw.githubusercontent.com/aapeebles/text_examples/master/Text%20examples%20folder/J.txt',\n",
       " 'https://raw.githubusercontent.com/aapeebles/text_examples/master/Text%20examples%20folder/K.txt',\n",
       " 'https://raw.githubusercontent.com/aapeebles/text_examples/master/Text%20examples%20folder/L.txt']"
      ]
     },
     "execution_count": 69,
     "metadata": {},
     "output_type": "execute_result"
    }
   ],
   "source": [
    "ending = ['A.txt', 'B.txt', 'C.txt', 'D.txt', 'E.txt', 'F.txt', 'G.txt', 'H.txt', 'I.txt', 'J.txt', 'K.txt', 'L.txt']\n",
    "urls =[]\n",
    "for end in ending:\n",
    "    urls.append('https://raw.githubusercontent.com/aapeebles/text_examples/master/Text%20examples%20folder/'+ end)\n",
    "urls"
   ]
  },
  {
   "cell_type": "code",
   "execution_count": 70,
   "metadata": {},
   "outputs": [],
   "source": [
    "import requests\n",
    "texts = []\n",
    "for url in urls:\n",
    "    texts.append(requests.get(url).text)"
   ]
  },
  {
   "cell_type": "code",
   "execution_count": 75,
   "metadata": {},
   "outputs": [
    {
     "data": {
      "text/plain": [
       "'Reboot ordered for EU patent law\\n\\nA European Parliament committee has ordered a rewrite of the proposals for controversial new European Union rules which govern computer-based inventions.\\n\\nThe Legal Affairs Committee (JURI) said the Commission should re-submit the Computer Implemented Inventions Directive after MEPs failed to back it. It has had vocal critics who say it could favour large over small firms and impact open-source software innovation. Supporters say it would let firms protect their inventions. The directive is intended to offer patent protection to inventions that use software to achieve their effect, in other words, \"computer implemented invention\". The draft law suffered setbacks when Poland, one of the largest EU member states, rejected its adoption twice in two months. Intense lobbying on the issue has started to gain momentum in some national parliaments putting them under immense pressure. Only two MEPs backed the draft law at the JURI meeting, with one voting to abstain.\\n\\nOpponents of the draft directive welcomed the decision and said a new first reading of the proposals would give the EU a chance to have fuller debates about its implications in all member states. In the US, the patenting of computer programs and internet business methods is permitted. This means that the US-based Amazon.com holds a patent for its \"one-click shopping\" service, for example. Critics are concerned that the directive could lead to a similar model happening in Europe. This, they fear, could hurt small software developers because they do not have the legal and financial might of larger companies if they had to fight patent legal action in court. Supporters say current laws are inefficient and it would serve to even up a playing field without bringing EU laws in line with the US.\\n'"
      ]
     },
     "execution_count": 75,
     "metadata": {},
     "output_type": "execute_result"
    }
   ],
   "source": [
    "texts[0]"
   ]
  },
  {
   "cell_type": "code",
   "execution_count": 102,
   "metadata": {},
   "outputs": [],
   "source": [
    "def clean_tokenize(string):\n",
    "    pattern = \"([a-zA-Z]+(?:'[a-z]+)?)\"\n",
    "    string= string.lower()\n",
    "    string_tokens = nltk.regexp_tokenize(string, pattern)\n",
    "    stop_words = set(stopwords.words('english'))\n",
    "    string_tokens_stopped = [w for w in string_tokens if not w in stop_words]\n",
    "    stemmer = SnowballStemmer(\"english\")\n",
    "    string_tokens_stemmed = [stemmer.stem(token) for token in string_tokens_stopped]\n",
    "    string_freqdist = FreqDist(string_tokens_stemmed)\n",
    "    return string_freqdist.most_common(1)"
   ]
  },
  {
   "cell_type": "code",
   "execution_count": 103,
   "metadata": {},
   "outputs": [
    {
     "data": {
      "text/plain": [
       "[('patent', 5)]"
      ]
     },
     "execution_count": 103,
     "metadata": {},
     "output_type": "execute_result"
    }
   ],
   "source": []
  },
  {
   "cell_type": "code",
   "execution_count": 105,
   "metadata": {},
   "outputs": [
    {
     "name": "stdout",
     "output_type": "stream",
     "text": [
      "[('patent', 5)]\n",
      "[('deal', 4)]\n",
      "[('gadget', 9)]\n",
      "[('arrest', 9)]\n",
      "[('fbi', 8)]\n",
      "[(\"o'sullivan\", 5)]\n",
      "[('sec', 8)]\n",
      "[('duchi', 7)]\n",
      "[('user', 10)]\n",
      "[('world', 6)]\n",
      "[('immigr', 7)]\n",
      "[('world', 7)]\n"
     ]
    }
   ],
   "source": [
    "for i in range(len(texts)):\n",
    "    print(clean_tokenize(texts[i]))\n",
    "    "
   ]
  },
  {
   "cell_type": "markdown",
   "metadata": {},
   "source": [
    "## Lets talk classification\n",
    "- How would you split into train and test? what would be the dataset?"
   ]
  },
  {
   "cell_type": "code",
   "execution_count": null,
   "metadata": {},
   "outputs": [],
   "source": [
    "# Sample code\n",
    "from sklearn.model_selection import train_test_split  \n",
    "X_train, X_test, y_train, y_test = train_test_split(df, y, test_size=0.2, random_state=0)  "
   ]
  },
  {
   "cell_type": "code",
   "execution_count": null,
   "metadata": {},
   "outputs": [],
   "source": []
  }
 ],
 "metadata": {
  "kernelspec": {
   "display_name": "Python 3",
   "language": "python",
   "name": "python3"
  },
  "language_info": {
   "codemirror_mode": {
    "name": "ipython",
    "version": 3
   },
   "file_extension": ".py",
   "mimetype": "text/x-python",
   "name": "python",
   "nbconvert_exporter": "python",
   "pygments_lexer": "ipython3",
   "version": "3.7.1"
  }
 },
 "nbformat": 4,
 "nbformat_minor": 2
}
